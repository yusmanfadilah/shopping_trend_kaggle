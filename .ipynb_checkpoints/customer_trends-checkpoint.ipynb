{
 "cells": [
  {
   "cell_type": "code",
   "execution_count": 6,
   "id": "0b30ec8e",
   "metadata": {},
   "outputs": [
    {
     "name": "stdout",
     "output_type": "stream",
     "text": [
      "   Customer ID  Age Gender Item Purchased  Category  Purchase Amount (USD)  \\\n",
      "0            1   55   Male         Blouse  Clothing                     53   \n",
      "1            2   19   Male        Sweater  Clothing                     64   \n",
      "2            3   50   Male          Jeans  Clothing                     73   \n",
      "3            4   21   Male        Sandals  Footwear                     90   \n",
      "4            5   45   Male         Blouse  Clothing                     49   \n",
      "\n",
      "        Location Size      Color  Season  Review Rating Subscription Status  \\\n",
      "0       Kentucky    L       Gray  Winter            3.1                 Yes   \n",
      "1          Maine    L     Maroon  Winter            3.1                 Yes   \n",
      "2  Massachusetts    S     Maroon  Spring            3.1                 Yes   \n",
      "3   Rhode Island    M     Maroon  Spring            3.5                 Yes   \n",
      "4         Oregon    M  Turquoise  Spring            2.7                 Yes   \n",
      "\n",
      "   Shipping Type Discount Applied Promo Code Used  Previous Purchases  \\\n",
      "0        Express              Yes             Yes                  14   \n",
      "1        Express              Yes             Yes                   2   \n",
      "2  Free Shipping              Yes             Yes                  23   \n",
      "3   Next Day Air              Yes             Yes                  49   \n",
      "4  Free Shipping              Yes             Yes                  31   \n",
      "\n",
      "  Payment Method Frequency of Purchases  \n",
      "0          Venmo            Fortnightly  \n",
      "1           Cash            Fortnightly  \n",
      "2    Credit Card                 Weekly  \n",
      "3         PayPal                 Weekly  \n",
      "4         PayPal               Annually  \n"
     ]
    }
   ],
   "source": [
    "import pandas as pd\n",
    "\n",
    "# Ganti path dengan salah satu dari dua pendekatan di atas\n",
    "file_path = 'C:/Users/DELL/Downloads/Data/shopping_trends_updated.csv'\n",
    "\n",
    "# Membaca file CSV ke dalam DataFrame\n",
    "df = pd.read_csv(file_path)\n",
    "\n",
    "# Tampilkan beberapa baris pertama dataset\n",
    "print(df.head())\n"
   ]
  },
  {
   "cell_type": "code",
   "execution_count": 8,
   "id": "76b153b1",
   "metadata": {},
   "outputs": [
    {
     "data": {
      "text/plain": [
       "(3900, 18)"
      ]
     },
     "execution_count": 8,
     "metadata": {},
     "output_type": "execute_result"
    }
   ],
   "source": [
    "df.shape"
   ]
  },
  {
   "cell_type": "code",
   "execution_count": 9,
   "id": "d2bad072",
   "metadata": {},
   "outputs": [
    {
     "data": {
      "text/plain": [
       "<bound method DataFrame.info of       Customer ID  Age  Gender Item Purchased     Category  \\\n",
       "0               1   55    Male         Blouse     Clothing   \n",
       "1               2   19    Male        Sweater     Clothing   \n",
       "2               3   50    Male          Jeans     Clothing   \n",
       "3               4   21    Male        Sandals     Footwear   \n",
       "4               5   45    Male         Blouse     Clothing   \n",
       "...           ...  ...     ...            ...          ...   \n",
       "3895         3896   40  Female         Hoodie     Clothing   \n",
       "3896         3897   52  Female       Backpack  Accessories   \n",
       "3897         3898   46  Female           Belt  Accessories   \n",
       "3898         3899   44  Female          Shoes     Footwear   \n",
       "3899         3900   52  Female        Handbag  Accessories   \n",
       "\n",
       "      Purchase Amount (USD)       Location Size      Color  Season  \\\n",
       "0                        53       Kentucky    L       Gray  Winter   \n",
       "1                        64          Maine    L     Maroon  Winter   \n",
       "2                        73  Massachusetts    S     Maroon  Spring   \n",
       "3                        90   Rhode Island    M     Maroon  Spring   \n",
       "4                        49         Oregon    M  Turquoise  Spring   \n",
       "...                     ...            ...  ...        ...     ...   \n",
       "3895                     28       Virginia    L  Turquoise  Summer   \n",
       "3896                     49           Iowa    L      White  Spring   \n",
       "3897                     33     New Jersey    L      Green  Spring   \n",
       "3898                     77      Minnesota    S      Brown  Summer   \n",
       "3899                     81     California    M      Beige  Spring   \n",
       "\n",
       "      Review Rating Subscription Status   Shipping Type Discount Applied  \\\n",
       "0               3.1                 Yes         Express              Yes   \n",
       "1               3.1                 Yes         Express              Yes   \n",
       "2               3.1                 Yes   Free Shipping              Yes   \n",
       "3               3.5                 Yes    Next Day Air              Yes   \n",
       "4               2.7                 Yes   Free Shipping              Yes   \n",
       "...             ...                 ...             ...              ...   \n",
       "3895            4.2                  No  2-Day Shipping               No   \n",
       "3896            4.5                  No    Store Pickup               No   \n",
       "3897            2.9                  No        Standard               No   \n",
       "3898            3.8                  No         Express               No   \n",
       "3899            3.1                  No    Store Pickup               No   \n",
       "\n",
       "     Promo Code Used  Previous Purchases Payment Method Frequency of Purchases  \n",
       "0                Yes                  14          Venmo            Fortnightly  \n",
       "1                Yes                   2           Cash            Fortnightly  \n",
       "2                Yes                  23    Credit Card                 Weekly  \n",
       "3                Yes                  49         PayPal                 Weekly  \n",
       "4                Yes                  31         PayPal               Annually  \n",
       "...              ...                 ...            ...                    ...  \n",
       "3895              No                  32          Venmo                 Weekly  \n",
       "3896              No                  41  Bank Transfer              Bi-Weekly  \n",
       "3897              No                  24          Venmo              Quarterly  \n",
       "3898              No                  24          Venmo                 Weekly  \n",
       "3899              No                  33          Venmo              Quarterly  \n",
       "\n",
       "[3900 rows x 18 columns]>"
      ]
     },
     "execution_count": 9,
     "metadata": {},
     "output_type": "execute_result"
    }
   ],
   "source": [
    "df.info"
   ]
  },
  {
   "cell_type": "code",
   "execution_count": 11,
   "id": "b36706df",
   "metadata": {},
   "outputs": [
    {
     "data": {
      "text/plain": [
       "Customer ID               0\n",
       "Age                       0\n",
       "Gender                    0\n",
       "Item Purchased            0\n",
       "Category                  0\n",
       "Purchase Amount (USD)     0\n",
       "Location                  0\n",
       "Size                      0\n",
       "Color                     0\n",
       "Season                    0\n",
       "Review Rating             0\n",
       "Subscription Status       0\n",
       "Shipping Type             0\n",
       "Discount Applied          0\n",
       "Promo Code Used           0\n",
       "Previous Purchases        0\n",
       "Payment Method            0\n",
       "Frequency of Purchases    0\n",
       "dtype: int64"
      ]
     },
     "execution_count": 11,
     "metadata": {},
     "output_type": "execute_result"
    }
   ],
   "source": [
    "df.isnull().sum()"
   ]
  },
  {
   "cell_type": "code",
   "execution_count": 12,
   "id": "fdc6d674",
   "metadata": {},
   "outputs": [
    {
     "data": {
      "text/plain": [
       "0"
      ]
     },
     "execution_count": 12,
     "metadata": {},
     "output_type": "execute_result"
    }
   ],
   "source": [
    "df.duplicated().sum()"
   ]
  },
  {
   "cell_type": "code",
   "execution_count": 13,
   "id": "e041b74e",
   "metadata": {},
   "outputs": [],
   "source": [
    "#Data Preprocessing and Cleaning"
   ]
  },
  {
   "cell_type": "code",
   "execution_count": 27,
   "id": "965ab31f",
   "metadata": {},
   "outputs": [
    {
     "name": "stdout",
     "output_type": "stream",
     "text": [
      "           Location State Code\n",
      "16          Alabama         AL\n",
      "41           Alaska         AK\n",
      "39          Arizona         AZ\n",
      "10         Arkansas         AR\n",
      "22       California         CA\n",
      "33         Colorado         CO\n",
      "67      Connecticut         CT\n",
      "12         Delaware         DE\n",
      "24          Florida         FL\n",
      "72          Georgia         GA\n",
      "11           Hawaii         HI\n",
      "60            Idaho         ID\n",
      "36         Illinois         IL\n",
      "37          Indiana         IN\n",
      "79             Iowa         IA\n",
      "32           Kansas         KS\n",
      "0          Kentucky         KY\n",
      "7         Louisiana         LA\n",
      "1             Maine         ME\n",
      "50         Maryland         MD\n",
      "2     Massachusetts         MA\n",
      "265        Michigan         MI\n",
      "106       Minnesota         MN\n",
      "17      Mississippi         MS\n",
      "9          Missouri         MO\n",
      "6           Montana         MT\n",
      "78         Nebraska         NE\n",
      "26           Nevada         NV\n",
      "13    New Hampshire         NH\n",
      "49       New Jersey         NJ\n",
      "54       New Mexico         NM\n",
      "14         New York         NY\n",
      "21   North Carolina         NC\n",
      "34     North Dakota         ND\n",
      "43             Ohio         OH\n",
      "23         Oklahoma         OK\n",
      "4            Oregon         OR\n",
      "66     Pennsylvania         PA\n",
      "3      Rhode Island         RI\n",
      "55   South Carolina         SC\n",
      "100    South Dakota         SD\n",
      "42        Tennessee         TN\n",
      "25            Texas         TX\n",
      "68             Utah         UT\n",
      "51          Vermont         VT\n",
      "71         Virginia         VA\n",
      "122      Washington         WA\n",
      "8     West Virginia         WV\n",
      "185       Wisconsin         WI\n",
      "5           Wyoming         WY\n"
     ]
    }
   ],
   "source": [
    "# Mapping state names to state codes\n",
    "state_codes = {\n",
    "    'ALABAMA': 'AL', 'ALASKA': 'AK', 'ARIZONA': 'AZ', 'ARKANSAS': 'AR', 'CALIFORNIA': 'CA',\n",
    "    'COLORADO': 'CO', 'CONNECTICUT': 'CT', 'DELAWARE': 'DE', 'FLORIDA': 'FL', 'GEORGIA': 'GA',\n",
    "    'HAWAII': 'HI', 'IDAHO': 'ID', 'ILLINOIS': 'IL', 'INDIANA': 'IN', 'IOWA': 'IA',\n",
    "    'KANSAS': 'KS', 'KENTUCKY': 'KY', 'LOUISIANA': 'LA', 'MAINE': 'ME', 'MARYLAND': 'MD',\n",
    "    'MASSACHUSETTS': 'MA', 'MICHIGAN': 'MI', 'MINNESOTA': 'MN', 'MISSISSIPPI': 'MS',\n",
    "    'MISSOURI': 'MO', 'MONTANA': 'MT', 'NEBRASKA': 'NE', 'NEVADA': 'NV', 'NEW HAMPSHIRE': 'NH',\n",
    "    'NEW JERSEY': 'NJ', 'NEW MEXICO': 'NM', 'NEW YORK': 'NY', 'NORTH CAROLINA': 'NC',\n",
    "    'NORTH DAKOTA': 'ND', 'OHIO': 'OH', 'OKLAHOMA': 'OK', 'OREGON': 'OR', 'PENNSYLVANIA': 'PA',\n",
    "    'RHODE ISLAND': 'RI', 'SOUTH CAROLINA': 'SC', 'SOUTH DAKOTA': 'SD', 'TENNESSEE': 'TN',\n",
    "    'TEXAS': 'TX', 'UTAH': 'UT', 'VERMONT': 'VT', 'VIRGINIA': 'VA', 'WASHINGTON': 'WA',\n",
    "    'WEST VIRGINIA': 'WV', 'WISCONSIN': 'WI', 'WYOMING': 'WY'\n",
    "}\n",
    "\n",
    "df['State Code'] = df['Location'].str.upper().map(state_codes)\n",
    "\n",
    "# Checking the transformation\n",
    "transformed_data_check = df[['Location', 'State Code']].drop_duplicates().sort_values(by='Location')\n",
    "\n",
    "print(transformed_data_check)"
   ]
  },
  {
   "cell_type": "code",
   "execution_count": 17,
   "id": "03c29bd4",
   "metadata": {},
   "outputs": [],
   "source": [
    "#Categorizing clothing items for future analysis"
   ]
  },
  {
   "cell_type": "code",
   "execution_count": 18,
   "id": "ad80e6cd",
   "metadata": {},
   "outputs": [],
   "source": [
    "def categorize_item(item):\n",
    "    category_mapping = {\n",
    "        'Tops': ['Blouse', 'Coat', 'Dress', 'Gloves', 'Hoodie', 'Jacket', 'Shirt', 'Sweater', 'T-shirt'],\n",
    "        'Bottoms': ['Jeans', 'Pants', 'Shorts', 'Skirt'],\n",
    "        'Footwear': ['Boots', 'Sandals', 'Shoes', 'Sneakers'],\n",
    "        'Accessories': ['Belt', 'Handbag', 'Hat', 'Jewelry', 'Sunglasses']\n",
    "    }\n",
    "\n",
    "    for category, items in category_mapping.items():\n",
    "        if item in items:\n",
    "            return category\n",
    "\n",
    "    return 'Other'\n",
    "\n",
    "# Applying the categorization to the dataset\n",
    "df['Item Category'] = df['Item Purchased'].apply(categorize_item)\n"
   ]
  },
  {
   "cell_type": "code",
   "execution_count": 36,
   "id": "226fe978",
   "metadata": {},
   "outputs": [
    {
     "data": {
      "application/vnd.plotly.v1+json": {
       "config": {
        "plotlyServerURL": "https://plot.ly"
       },
       "data": [
        {
         "coloraxis": "coloraxis",
         "customdata": [
          [
           "Montana",
           96
          ],
          [
           "California",
           95
          ],
          [
           "Idaho",
           93
          ],
          [
           "Illinois",
           92
          ],
          [
           "Alabama",
           89
          ],
          [
           "Minnesota",
           88
          ],
          [
           "Nebraska",
           87
          ],
          [
           "New York",
           87
          ],
          [
           "Nevada",
           87
          ],
          [
           "Maryland",
           86
          ],
          [
           "Delaware",
           86
          ],
          [
           "Vermont",
           85
          ],
          [
           "Louisiana",
           84
          ],
          [
           "North Dakota",
           83
          ],
          [
           "Missouri",
           81
          ],
          [
           "West Virginia",
           81
          ],
          [
           "New Mexico",
           81
          ],
          [
           "Mississippi",
           80
          ],
          [
           "Indiana",
           79
          ],
          [
           "Georgia",
           79
          ],
          [
           "Kentucky",
           79
          ],
          [
           "Arkansas",
           79
          ],
          [
           "North Carolina",
           78
          ],
          [
           "Connecticut",
           78
          ],
          [
           "Virginia",
           77
          ],
          [
           "Ohio",
           77
          ],
          [
           "Tennessee",
           77
          ],
          [
           "Texas",
           77
          ],
          [
           "Maine",
           77
          ],
          [
           "South Carolina",
           76
          ],
          [
           "Colorado",
           75
          ],
          [
           "Oklahoma",
           75
          ],
          [
           "Wisconsin",
           75
          ],
          [
           "Oregon",
           74
          ],
          [
           "Pennsylvania",
           74
          ],
          [
           "Washington",
           73
          ],
          [
           "Michigan",
           73
          ],
          [
           "Alaska",
           72
          ],
          [
           "Massachusetts",
           72
          ],
          [
           "Wyoming",
           71
          ],
          [
           "Utah",
           71
          ],
          [
           "New Hampshire",
           71
          ],
          [
           "South Dakota",
           70
          ],
          [
           "Iowa",
           69
          ],
          [
           "Florida",
           68
          ],
          [
           "New Jersey",
           67
          ],
          [
           "Hawaii",
           65
          ],
          [
           "Arizona",
           65
          ],
          [
           "Kansas",
           63
          ],
          [
           "Rhode Island",
           63
          ]
         ],
         "geo": "geo",
         "hovertemplate": "State Code=%{location}<br>Location=%{customdata[0]}<br>Number of Customers=%{z}<extra></extra>",
         "locationmode": "USA-states",
         "locations": [
          "MT",
          "CA",
          "ID",
          "IL",
          "AL",
          "MN",
          "NE",
          "NY",
          "NV",
          "MD",
          "DE",
          "VT",
          "LA",
          "ND",
          "MO",
          "WV",
          "NM",
          "MS",
          "IN",
          "GA",
          "KY",
          "AR",
          "NC",
          "CT",
          "VA",
          "OH",
          "TN",
          "TX",
          "ME",
          "SC",
          "CO",
          "OK",
          "WI",
          "OR",
          "PA",
          "WA",
          "MI",
          "AK",
          "MA",
          "WY",
          "UT",
          "NH",
          "SD",
          "IA",
          "FL",
          "NJ",
          "HI",
          "AZ",
          "KS",
          "RI"
         ],
         "name": "",
         "type": "choropleth",
         "z": [
          96,
          95,
          93,
          92,
          89,
          88,
          87,
          87,
          87,
          86,
          86,
          85,
          84,
          83,
          81,
          81,
          81,
          80,
          79,
          79,
          79,
          79,
          78,
          78,
          77,
          77,
          77,
          77,
          77,
          76,
          75,
          75,
          75,
          74,
          74,
          73,
          73,
          72,
          72,
          71,
          71,
          71,
          70,
          69,
          68,
          67,
          65,
          65,
          63,
          63
         ]
        }
       ],
       "layout": {
        "coloraxis": {
         "colorbar": {
          "title": {
           "text": "Number of Customers"
          }
         },
         "colorscale": [
          [
           0,
           "rgb(103,0,31)"
          ],
          [
           0.1,
           "rgb(178,24,43)"
          ],
          [
           0.2,
           "rgb(214,96,77)"
          ],
          [
           0.3,
           "rgb(244,165,130)"
          ],
          [
           0.4,
           "rgb(253,219,199)"
          ],
          [
           0.5,
           "rgb(247,247,247)"
          ],
          [
           0.6,
           "rgb(209,229,240)"
          ],
          [
           0.7,
           "rgb(146,197,222)"
          ],
          [
           0.8,
           "rgb(67,147,195)"
          ],
          [
           0.9,
           "rgb(33,102,172)"
          ],
          [
           1,
           "rgb(5,48,97)"
          ]
         ]
        },
        "geo": {
         "center": {},
         "domain": {
          "x": [
           0,
           1
          ],
          "y": [
           0,
           1
          ]
         },
         "scope": "usa"
        },
        "legend": {
         "tracegroupgap": 0
        },
        "template": {
         "data": {
          "bar": [
           {
            "error_x": {
             "color": "#2a3f5f"
            },
            "error_y": {
             "color": "#2a3f5f"
            },
            "marker": {
             "line": {
              "color": "#E5ECF6",
              "width": 0.5
             },
             "pattern": {
              "fillmode": "overlay",
              "size": 10,
              "solidity": 0.2
             }
            },
            "type": "bar"
           }
          ],
          "barpolar": [
           {
            "marker": {
             "line": {
              "color": "#E5ECF6",
              "width": 0.5
             },
             "pattern": {
              "fillmode": "overlay",
              "size": 10,
              "solidity": 0.2
             }
            },
            "type": "barpolar"
           }
          ],
          "carpet": [
           {
            "aaxis": {
             "endlinecolor": "#2a3f5f",
             "gridcolor": "white",
             "linecolor": "white",
             "minorgridcolor": "white",
             "startlinecolor": "#2a3f5f"
            },
            "baxis": {
             "endlinecolor": "#2a3f5f",
             "gridcolor": "white",
             "linecolor": "white",
             "minorgridcolor": "white",
             "startlinecolor": "#2a3f5f"
            },
            "type": "carpet"
           }
          ],
          "choropleth": [
           {
            "colorbar": {
             "outlinewidth": 0,
             "ticks": ""
            },
            "type": "choropleth"
           }
          ],
          "contour": [
           {
            "colorbar": {
             "outlinewidth": 0,
             "ticks": ""
            },
            "colorscale": [
             [
              0,
              "#0d0887"
             ],
             [
              0.1111111111111111,
              "#46039f"
             ],
             [
              0.2222222222222222,
              "#7201a8"
             ],
             [
              0.3333333333333333,
              "#9c179e"
             ],
             [
              0.4444444444444444,
              "#bd3786"
             ],
             [
              0.5555555555555556,
              "#d8576b"
             ],
             [
              0.6666666666666666,
              "#ed7953"
             ],
             [
              0.7777777777777778,
              "#fb9f3a"
             ],
             [
              0.8888888888888888,
              "#fdca26"
             ],
             [
              1,
              "#f0f921"
             ]
            ],
            "type": "contour"
           }
          ],
          "contourcarpet": [
           {
            "colorbar": {
             "outlinewidth": 0,
             "ticks": ""
            },
            "type": "contourcarpet"
           }
          ],
          "heatmap": [
           {
            "colorbar": {
             "outlinewidth": 0,
             "ticks": ""
            },
            "colorscale": [
             [
              0,
              "#0d0887"
             ],
             [
              0.1111111111111111,
              "#46039f"
             ],
             [
              0.2222222222222222,
              "#7201a8"
             ],
             [
              0.3333333333333333,
              "#9c179e"
             ],
             [
              0.4444444444444444,
              "#bd3786"
             ],
             [
              0.5555555555555556,
              "#d8576b"
             ],
             [
              0.6666666666666666,
              "#ed7953"
             ],
             [
              0.7777777777777778,
              "#fb9f3a"
             ],
             [
              0.8888888888888888,
              "#fdca26"
             ],
             [
              1,
              "#f0f921"
             ]
            ],
            "type": "heatmap"
           }
          ],
          "heatmapgl": [
           {
            "colorbar": {
             "outlinewidth": 0,
             "ticks": ""
            },
            "colorscale": [
             [
              0,
              "#0d0887"
             ],
             [
              0.1111111111111111,
              "#46039f"
             ],
             [
              0.2222222222222222,
              "#7201a8"
             ],
             [
              0.3333333333333333,
              "#9c179e"
             ],
             [
              0.4444444444444444,
              "#bd3786"
             ],
             [
              0.5555555555555556,
              "#d8576b"
             ],
             [
              0.6666666666666666,
              "#ed7953"
             ],
             [
              0.7777777777777778,
              "#fb9f3a"
             ],
             [
              0.8888888888888888,
              "#fdca26"
             ],
             [
              1,
              "#f0f921"
             ]
            ],
            "type": "heatmapgl"
           }
          ],
          "histogram": [
           {
            "marker": {
             "pattern": {
              "fillmode": "overlay",
              "size": 10,
              "solidity": 0.2
             }
            },
            "type": "histogram"
           }
          ],
          "histogram2d": [
           {
            "colorbar": {
             "outlinewidth": 0,
             "ticks": ""
            },
            "colorscale": [
             [
              0,
              "#0d0887"
             ],
             [
              0.1111111111111111,
              "#46039f"
             ],
             [
              0.2222222222222222,
              "#7201a8"
             ],
             [
              0.3333333333333333,
              "#9c179e"
             ],
             [
              0.4444444444444444,
              "#bd3786"
             ],
             [
              0.5555555555555556,
              "#d8576b"
             ],
             [
              0.6666666666666666,
              "#ed7953"
             ],
             [
              0.7777777777777778,
              "#fb9f3a"
             ],
             [
              0.8888888888888888,
              "#fdca26"
             ],
             [
              1,
              "#f0f921"
             ]
            ],
            "type": "histogram2d"
           }
          ],
          "histogram2dcontour": [
           {
            "colorbar": {
             "outlinewidth": 0,
             "ticks": ""
            },
            "colorscale": [
             [
              0,
              "#0d0887"
             ],
             [
              0.1111111111111111,
              "#46039f"
             ],
             [
              0.2222222222222222,
              "#7201a8"
             ],
             [
              0.3333333333333333,
              "#9c179e"
             ],
             [
              0.4444444444444444,
              "#bd3786"
             ],
             [
              0.5555555555555556,
              "#d8576b"
             ],
             [
              0.6666666666666666,
              "#ed7953"
             ],
             [
              0.7777777777777778,
              "#fb9f3a"
             ],
             [
              0.8888888888888888,
              "#fdca26"
             ],
             [
              1,
              "#f0f921"
             ]
            ],
            "type": "histogram2dcontour"
           }
          ],
          "mesh3d": [
           {
            "colorbar": {
             "outlinewidth": 0,
             "ticks": ""
            },
            "type": "mesh3d"
           }
          ],
          "parcoords": [
           {
            "line": {
             "colorbar": {
              "outlinewidth": 0,
              "ticks": ""
             }
            },
            "type": "parcoords"
           }
          ],
          "pie": [
           {
            "automargin": true,
            "type": "pie"
           }
          ],
          "scatter": [
           {
            "fillpattern": {
             "fillmode": "overlay",
             "size": 10,
             "solidity": 0.2
            },
            "type": "scatter"
           }
          ],
          "scatter3d": [
           {
            "line": {
             "colorbar": {
              "outlinewidth": 0,
              "ticks": ""
             }
            },
            "marker": {
             "colorbar": {
              "outlinewidth": 0,
              "ticks": ""
             }
            },
            "type": "scatter3d"
           }
          ],
          "scattercarpet": [
           {
            "marker": {
             "colorbar": {
              "outlinewidth": 0,
              "ticks": ""
             }
            },
            "type": "scattercarpet"
           }
          ],
          "scattergeo": [
           {
            "marker": {
             "colorbar": {
              "outlinewidth": 0,
              "ticks": ""
             }
            },
            "type": "scattergeo"
           }
          ],
          "scattergl": [
           {
            "marker": {
             "colorbar": {
              "outlinewidth": 0,
              "ticks": ""
             }
            },
            "type": "scattergl"
           }
          ],
          "scattermapbox": [
           {
            "marker": {
             "colorbar": {
              "outlinewidth": 0,
              "ticks": ""
             }
            },
            "type": "scattermapbox"
           }
          ],
          "scatterpolar": [
           {
            "marker": {
             "colorbar": {
              "outlinewidth": 0,
              "ticks": ""
             }
            },
            "type": "scatterpolar"
           }
          ],
          "scatterpolargl": [
           {
            "marker": {
             "colorbar": {
              "outlinewidth": 0,
              "ticks": ""
             }
            },
            "type": "scatterpolargl"
           }
          ],
          "scatterternary": [
           {
            "marker": {
             "colorbar": {
              "outlinewidth": 0,
              "ticks": ""
             }
            },
            "type": "scatterternary"
           }
          ],
          "surface": [
           {
            "colorbar": {
             "outlinewidth": 0,
             "ticks": ""
            },
            "colorscale": [
             [
              0,
              "#0d0887"
             ],
             [
              0.1111111111111111,
              "#46039f"
             ],
             [
              0.2222222222222222,
              "#7201a8"
             ],
             [
              0.3333333333333333,
              "#9c179e"
             ],
             [
              0.4444444444444444,
              "#bd3786"
             ],
             [
              0.5555555555555556,
              "#d8576b"
             ],
             [
              0.6666666666666666,
              "#ed7953"
             ],
             [
              0.7777777777777778,
              "#fb9f3a"
             ],
             [
              0.8888888888888888,
              "#fdca26"
             ],
             [
              1,
              "#f0f921"
             ]
            ],
            "type": "surface"
           }
          ],
          "table": [
           {
            "cells": {
             "fill": {
              "color": "#EBF0F8"
             },
             "line": {
              "color": "white"
             }
            },
            "header": {
             "fill": {
              "color": "#C8D4E3"
             },
             "line": {
              "color": "white"
             }
            },
            "type": "table"
           }
          ]
         },
         "layout": {
          "annotationdefaults": {
           "arrowcolor": "#2a3f5f",
           "arrowhead": 0,
           "arrowwidth": 1
          },
          "autotypenumbers": "strict",
          "coloraxis": {
           "colorbar": {
            "outlinewidth": 0,
            "ticks": ""
           }
          },
          "colorscale": {
           "diverging": [
            [
             0,
             "#8e0152"
            ],
            [
             0.1,
             "#c51b7d"
            ],
            [
             0.2,
             "#de77ae"
            ],
            [
             0.3,
             "#f1b6da"
            ],
            [
             0.4,
             "#fde0ef"
            ],
            [
             0.5,
             "#f7f7f7"
            ],
            [
             0.6,
             "#e6f5d0"
            ],
            [
             0.7,
             "#b8e186"
            ],
            [
             0.8,
             "#7fbc41"
            ],
            [
             0.9,
             "#4d9221"
            ],
            [
             1,
             "#276419"
            ]
           ],
           "sequential": [
            [
             0,
             "#0d0887"
            ],
            [
             0.1111111111111111,
             "#46039f"
            ],
            [
             0.2222222222222222,
             "#7201a8"
            ],
            [
             0.3333333333333333,
             "#9c179e"
            ],
            [
             0.4444444444444444,
             "#bd3786"
            ],
            [
             0.5555555555555556,
             "#d8576b"
            ],
            [
             0.6666666666666666,
             "#ed7953"
            ],
            [
             0.7777777777777778,
             "#fb9f3a"
            ],
            [
             0.8888888888888888,
             "#fdca26"
            ],
            [
             1,
             "#f0f921"
            ]
           ],
           "sequentialminus": [
            [
             0,
             "#0d0887"
            ],
            [
             0.1111111111111111,
             "#46039f"
            ],
            [
             0.2222222222222222,
             "#7201a8"
            ],
            [
             0.3333333333333333,
             "#9c179e"
            ],
            [
             0.4444444444444444,
             "#bd3786"
            ],
            [
             0.5555555555555556,
             "#d8576b"
            ],
            [
             0.6666666666666666,
             "#ed7953"
            ],
            [
             0.7777777777777778,
             "#fb9f3a"
            ],
            [
             0.8888888888888888,
             "#fdca26"
            ],
            [
             1,
             "#f0f921"
            ]
           ]
          },
          "colorway": [
           "#636efa",
           "#EF553B",
           "#00cc96",
           "#ab63fa",
           "#FFA15A",
           "#19d3f3",
           "#FF6692",
           "#B6E880",
           "#FF97FF",
           "#FECB52"
          ],
          "font": {
           "color": "#2a3f5f"
          },
          "geo": {
           "bgcolor": "white",
           "lakecolor": "white",
           "landcolor": "#E5ECF6",
           "showlakes": true,
           "showland": true,
           "subunitcolor": "white"
          },
          "hoverlabel": {
           "align": "left"
          },
          "hovermode": "closest",
          "mapbox": {
           "style": "light"
          },
          "paper_bgcolor": "white",
          "plot_bgcolor": "#E5ECF6",
          "polar": {
           "angularaxis": {
            "gridcolor": "white",
            "linecolor": "white",
            "ticks": ""
           },
           "bgcolor": "#E5ECF6",
           "radialaxis": {
            "gridcolor": "white",
            "linecolor": "white",
            "ticks": ""
           }
          },
          "scene": {
           "xaxis": {
            "backgroundcolor": "#E5ECF6",
            "gridcolor": "white",
            "gridwidth": 2,
            "linecolor": "white",
            "showbackground": true,
            "ticks": "",
            "zerolinecolor": "white"
           },
           "yaxis": {
            "backgroundcolor": "#E5ECF6",
            "gridcolor": "white",
            "gridwidth": 2,
            "linecolor": "white",
            "showbackground": true,
            "ticks": "",
            "zerolinecolor": "white"
           },
           "zaxis": {
            "backgroundcolor": "#E5ECF6",
            "gridcolor": "white",
            "gridwidth": 2,
            "linecolor": "white",
            "showbackground": true,
            "ticks": "",
            "zerolinecolor": "white"
           }
          },
          "shapedefaults": {
           "line": {
            "color": "#2a3f5f"
           }
          },
          "ternary": {
           "aaxis": {
            "gridcolor": "white",
            "linecolor": "white",
            "ticks": ""
           },
           "baxis": {
            "gridcolor": "white",
            "linecolor": "white",
            "ticks": ""
           },
           "bgcolor": "#E5ECF6",
           "caxis": {
            "gridcolor": "white",
            "linecolor": "white",
            "ticks": ""
           }
          },
          "title": {
           "x": 0.05
          },
          "xaxis": {
           "automargin": true,
           "gridcolor": "white",
           "linecolor": "white",
           "ticks": "",
           "title": {
            "standoff": 15
           },
           "zerolinecolor": "white",
           "zerolinewidth": 2
          },
          "yaxis": {
           "automargin": true,
           "gridcolor": "white",
           "linecolor": "white",
           "ticks": "",
           "title": {
            "standoff": 15
           },
           "zerolinecolor": "white",
           "zerolinewidth": 2
          }
         }
        },
        "title": {
         "text": "Distribution of Customers Across US States"
        }
       }
      },
      "text/html": [
       "<div>                            <div id=\"1c6cd3aa-85a7-46d2-b455-dc3931b47345\" class=\"plotly-graph-div\" style=\"height:525px; width:100%;\"></div>            <script type=\"text/javascript\">                require([\"plotly\"], function(Plotly) {                    window.PLOTLYENV=window.PLOTLYENV || {};                                    if (document.getElementById(\"1c6cd3aa-85a7-46d2-b455-dc3931b47345\")) {                    Plotly.newPlot(                        \"1c6cd3aa-85a7-46d2-b455-dc3931b47345\",                        [{\"coloraxis\":\"coloraxis\",\"customdata\":[[\"Montana\",96],[\"California\",95],[\"Idaho\",93],[\"Illinois\",92],[\"Alabama\",89],[\"Minnesota\",88],[\"Nebraska\",87],[\"New York\",87],[\"Nevada\",87],[\"Maryland\",86],[\"Delaware\",86],[\"Vermont\",85],[\"Louisiana\",84],[\"North Dakota\",83],[\"Missouri\",81],[\"West Virginia\",81],[\"New Mexico\",81],[\"Mississippi\",80],[\"Indiana\",79],[\"Georgia\",79],[\"Kentucky\",79],[\"Arkansas\",79],[\"North Carolina\",78],[\"Connecticut\",78],[\"Virginia\",77],[\"Ohio\",77],[\"Tennessee\",77],[\"Texas\",77],[\"Maine\",77],[\"South Carolina\",76],[\"Colorado\",75],[\"Oklahoma\",75],[\"Wisconsin\",75],[\"Oregon\",74],[\"Pennsylvania\",74],[\"Washington\",73],[\"Michigan\",73],[\"Alaska\",72],[\"Massachusetts\",72],[\"Wyoming\",71],[\"Utah\",71],[\"New Hampshire\",71],[\"South Dakota\",70],[\"Iowa\",69],[\"Florida\",68],[\"New Jersey\",67],[\"Hawaii\",65],[\"Arizona\",65],[\"Kansas\",63],[\"Rhode Island\",63]],\"geo\":\"geo\",\"hovertemplate\":\"State Code=%{location}\\u003cbr\\u003eLocation=%{customdata[0]}\\u003cbr\\u003eNumber of Customers=%{z}\\u003cextra\\u003e\\u003c\\u002fextra\\u003e\",\"locationmode\":\"USA-states\",\"locations\":[\"MT\",\"CA\",\"ID\",\"IL\",\"AL\",\"MN\",\"NE\",\"NY\",\"NV\",\"MD\",\"DE\",\"VT\",\"LA\",\"ND\",\"MO\",\"WV\",\"NM\",\"MS\",\"IN\",\"GA\",\"KY\",\"AR\",\"NC\",\"CT\",\"VA\",\"OH\",\"TN\",\"TX\",\"ME\",\"SC\",\"CO\",\"OK\",\"WI\",\"OR\",\"PA\",\"WA\",\"MI\",\"AK\",\"MA\",\"WY\",\"UT\",\"NH\",\"SD\",\"IA\",\"FL\",\"NJ\",\"HI\",\"AZ\",\"KS\",\"RI\"],\"name\":\"\",\"z\":[96,95,93,92,89,88,87,87,87,86,86,85,84,83,81,81,81,80,79,79,79,79,78,78,77,77,77,77,77,76,75,75,75,74,74,73,73,72,72,71,71,71,70,69,68,67,65,65,63,63],\"type\":\"choropleth\"}],                        {\"template\":{\"data\":{\"histogram2dcontour\":[{\"type\":\"histogram2dcontour\",\"colorbar\":{\"outlinewidth\":0,\"ticks\":\"\"},\"colorscale\":[[0.0,\"#0d0887\"],[0.1111111111111111,\"#46039f\"],[0.2222222222222222,\"#7201a8\"],[0.3333333333333333,\"#9c179e\"],[0.4444444444444444,\"#bd3786\"],[0.5555555555555556,\"#d8576b\"],[0.6666666666666666,\"#ed7953\"],[0.7777777777777778,\"#fb9f3a\"],[0.8888888888888888,\"#fdca26\"],[1.0,\"#f0f921\"]]}],\"choropleth\":[{\"type\":\"choropleth\",\"colorbar\":{\"outlinewidth\":0,\"ticks\":\"\"}}],\"histogram2d\":[{\"type\":\"histogram2d\",\"colorbar\":{\"outlinewidth\":0,\"ticks\":\"\"},\"colorscale\":[[0.0,\"#0d0887\"],[0.1111111111111111,\"#46039f\"],[0.2222222222222222,\"#7201a8\"],[0.3333333333333333,\"#9c179e\"],[0.4444444444444444,\"#bd3786\"],[0.5555555555555556,\"#d8576b\"],[0.6666666666666666,\"#ed7953\"],[0.7777777777777778,\"#fb9f3a\"],[0.8888888888888888,\"#fdca26\"],[1.0,\"#f0f921\"]]}],\"heatmap\":[{\"type\":\"heatmap\",\"colorbar\":{\"outlinewidth\":0,\"ticks\":\"\"},\"colorscale\":[[0.0,\"#0d0887\"],[0.1111111111111111,\"#46039f\"],[0.2222222222222222,\"#7201a8\"],[0.3333333333333333,\"#9c179e\"],[0.4444444444444444,\"#bd3786\"],[0.5555555555555556,\"#d8576b\"],[0.6666666666666666,\"#ed7953\"],[0.7777777777777778,\"#fb9f3a\"],[0.8888888888888888,\"#fdca26\"],[1.0,\"#f0f921\"]]}],\"heatmapgl\":[{\"type\":\"heatmapgl\",\"colorbar\":{\"outlinewidth\":0,\"ticks\":\"\"},\"colorscale\":[[0.0,\"#0d0887\"],[0.1111111111111111,\"#46039f\"],[0.2222222222222222,\"#7201a8\"],[0.3333333333333333,\"#9c179e\"],[0.4444444444444444,\"#bd3786\"],[0.5555555555555556,\"#d8576b\"],[0.6666666666666666,\"#ed7953\"],[0.7777777777777778,\"#fb9f3a\"],[0.8888888888888888,\"#fdca26\"],[1.0,\"#f0f921\"]]}],\"contourcarpet\":[{\"type\":\"contourcarpet\",\"colorbar\":{\"outlinewidth\":0,\"ticks\":\"\"}}],\"contour\":[{\"type\":\"contour\",\"colorbar\":{\"outlinewidth\":0,\"ticks\":\"\"},\"colorscale\":[[0.0,\"#0d0887\"],[0.1111111111111111,\"#46039f\"],[0.2222222222222222,\"#7201a8\"],[0.3333333333333333,\"#9c179e\"],[0.4444444444444444,\"#bd3786\"],[0.5555555555555556,\"#d8576b\"],[0.6666666666666666,\"#ed7953\"],[0.7777777777777778,\"#fb9f3a\"],[0.8888888888888888,\"#fdca26\"],[1.0,\"#f0f921\"]]}],\"surface\":[{\"type\":\"surface\",\"colorbar\":{\"outlinewidth\":0,\"ticks\":\"\"},\"colorscale\":[[0.0,\"#0d0887\"],[0.1111111111111111,\"#46039f\"],[0.2222222222222222,\"#7201a8\"],[0.3333333333333333,\"#9c179e\"],[0.4444444444444444,\"#bd3786\"],[0.5555555555555556,\"#d8576b\"],[0.6666666666666666,\"#ed7953\"],[0.7777777777777778,\"#fb9f3a\"],[0.8888888888888888,\"#fdca26\"],[1.0,\"#f0f921\"]]}],\"mesh3d\":[{\"type\":\"mesh3d\",\"colorbar\":{\"outlinewidth\":0,\"ticks\":\"\"}}],\"scatter\":[{\"fillpattern\":{\"fillmode\":\"overlay\",\"size\":10,\"solidity\":0.2},\"type\":\"scatter\"}],\"parcoords\":[{\"type\":\"parcoords\",\"line\":{\"colorbar\":{\"outlinewidth\":0,\"ticks\":\"\"}}}],\"scatterpolargl\":[{\"type\":\"scatterpolargl\",\"marker\":{\"colorbar\":{\"outlinewidth\":0,\"ticks\":\"\"}}}],\"bar\":[{\"error_x\":{\"color\":\"#2a3f5f\"},\"error_y\":{\"color\":\"#2a3f5f\"},\"marker\":{\"line\":{\"color\":\"#E5ECF6\",\"width\":0.5},\"pattern\":{\"fillmode\":\"overlay\",\"size\":10,\"solidity\":0.2}},\"type\":\"bar\"}],\"scattergeo\":[{\"type\":\"scattergeo\",\"marker\":{\"colorbar\":{\"outlinewidth\":0,\"ticks\":\"\"}}}],\"scatterpolar\":[{\"type\":\"scatterpolar\",\"marker\":{\"colorbar\":{\"outlinewidth\":0,\"ticks\":\"\"}}}],\"histogram\":[{\"marker\":{\"pattern\":{\"fillmode\":\"overlay\",\"size\":10,\"solidity\":0.2}},\"type\":\"histogram\"}],\"scattergl\":[{\"type\":\"scattergl\",\"marker\":{\"colorbar\":{\"outlinewidth\":0,\"ticks\":\"\"}}}],\"scatter3d\":[{\"type\":\"scatter3d\",\"line\":{\"colorbar\":{\"outlinewidth\":0,\"ticks\":\"\"}},\"marker\":{\"colorbar\":{\"outlinewidth\":0,\"ticks\":\"\"}}}],\"scattermapbox\":[{\"type\":\"scattermapbox\",\"marker\":{\"colorbar\":{\"outlinewidth\":0,\"ticks\":\"\"}}}],\"scatterternary\":[{\"type\":\"scatterternary\",\"marker\":{\"colorbar\":{\"outlinewidth\":0,\"ticks\":\"\"}}}],\"scattercarpet\":[{\"type\":\"scattercarpet\",\"marker\":{\"colorbar\":{\"outlinewidth\":0,\"ticks\":\"\"}}}],\"carpet\":[{\"aaxis\":{\"endlinecolor\":\"#2a3f5f\",\"gridcolor\":\"white\",\"linecolor\":\"white\",\"minorgridcolor\":\"white\",\"startlinecolor\":\"#2a3f5f\"},\"baxis\":{\"endlinecolor\":\"#2a3f5f\",\"gridcolor\":\"white\",\"linecolor\":\"white\",\"minorgridcolor\":\"white\",\"startlinecolor\":\"#2a3f5f\"},\"type\":\"carpet\"}],\"table\":[{\"cells\":{\"fill\":{\"color\":\"#EBF0F8\"},\"line\":{\"color\":\"white\"}},\"header\":{\"fill\":{\"color\":\"#C8D4E3\"},\"line\":{\"color\":\"white\"}},\"type\":\"table\"}],\"barpolar\":[{\"marker\":{\"line\":{\"color\":\"#E5ECF6\",\"width\":0.5},\"pattern\":{\"fillmode\":\"overlay\",\"size\":10,\"solidity\":0.2}},\"type\":\"barpolar\"}],\"pie\":[{\"automargin\":true,\"type\":\"pie\"}]},\"layout\":{\"autotypenumbers\":\"strict\",\"colorway\":[\"#636efa\",\"#EF553B\",\"#00cc96\",\"#ab63fa\",\"#FFA15A\",\"#19d3f3\",\"#FF6692\",\"#B6E880\",\"#FF97FF\",\"#FECB52\"],\"font\":{\"color\":\"#2a3f5f\"},\"hovermode\":\"closest\",\"hoverlabel\":{\"align\":\"left\"},\"paper_bgcolor\":\"white\",\"plot_bgcolor\":\"#E5ECF6\",\"polar\":{\"bgcolor\":\"#E5ECF6\",\"angularaxis\":{\"gridcolor\":\"white\",\"linecolor\":\"white\",\"ticks\":\"\"},\"radialaxis\":{\"gridcolor\":\"white\",\"linecolor\":\"white\",\"ticks\":\"\"}},\"ternary\":{\"bgcolor\":\"#E5ECF6\",\"aaxis\":{\"gridcolor\":\"white\",\"linecolor\":\"white\",\"ticks\":\"\"},\"baxis\":{\"gridcolor\":\"white\",\"linecolor\":\"white\",\"ticks\":\"\"},\"caxis\":{\"gridcolor\":\"white\",\"linecolor\":\"white\",\"ticks\":\"\"}},\"coloraxis\":{\"colorbar\":{\"outlinewidth\":0,\"ticks\":\"\"}},\"colorscale\":{\"sequential\":[[0.0,\"#0d0887\"],[0.1111111111111111,\"#46039f\"],[0.2222222222222222,\"#7201a8\"],[0.3333333333333333,\"#9c179e\"],[0.4444444444444444,\"#bd3786\"],[0.5555555555555556,\"#d8576b\"],[0.6666666666666666,\"#ed7953\"],[0.7777777777777778,\"#fb9f3a\"],[0.8888888888888888,\"#fdca26\"],[1.0,\"#f0f921\"]],\"sequentialminus\":[[0.0,\"#0d0887\"],[0.1111111111111111,\"#46039f\"],[0.2222222222222222,\"#7201a8\"],[0.3333333333333333,\"#9c179e\"],[0.4444444444444444,\"#bd3786\"],[0.5555555555555556,\"#d8576b\"],[0.6666666666666666,\"#ed7953\"],[0.7777777777777778,\"#fb9f3a\"],[0.8888888888888888,\"#fdca26\"],[1.0,\"#f0f921\"]],\"diverging\":[[0,\"#8e0152\"],[0.1,\"#c51b7d\"],[0.2,\"#de77ae\"],[0.3,\"#f1b6da\"],[0.4,\"#fde0ef\"],[0.5,\"#f7f7f7\"],[0.6,\"#e6f5d0\"],[0.7,\"#b8e186\"],[0.8,\"#7fbc41\"],[0.9,\"#4d9221\"],[1,\"#276419\"]]},\"xaxis\":{\"gridcolor\":\"white\",\"linecolor\":\"white\",\"ticks\":\"\",\"title\":{\"standoff\":15},\"zerolinecolor\":\"white\",\"automargin\":true,\"zerolinewidth\":2},\"yaxis\":{\"gridcolor\":\"white\",\"linecolor\":\"white\",\"ticks\":\"\",\"title\":{\"standoff\":15},\"zerolinecolor\":\"white\",\"automargin\":true,\"zerolinewidth\":2},\"scene\":{\"xaxis\":{\"backgroundcolor\":\"#E5ECF6\",\"gridcolor\":\"white\",\"linecolor\":\"white\",\"showbackground\":true,\"ticks\":\"\",\"zerolinecolor\":\"white\",\"gridwidth\":2},\"yaxis\":{\"backgroundcolor\":\"#E5ECF6\",\"gridcolor\":\"white\",\"linecolor\":\"white\",\"showbackground\":true,\"ticks\":\"\",\"zerolinecolor\":\"white\",\"gridwidth\":2},\"zaxis\":{\"backgroundcolor\":\"#E5ECF6\",\"gridcolor\":\"white\",\"linecolor\":\"white\",\"showbackground\":true,\"ticks\":\"\",\"zerolinecolor\":\"white\",\"gridwidth\":2}},\"shapedefaults\":{\"line\":{\"color\":\"#2a3f5f\"}},\"annotationdefaults\":{\"arrowcolor\":\"#2a3f5f\",\"arrowhead\":0,\"arrowwidth\":1},\"geo\":{\"bgcolor\":\"white\",\"landcolor\":\"#E5ECF6\",\"subunitcolor\":\"white\",\"showland\":true,\"showlakes\":true,\"lakecolor\":\"white\"},\"title\":{\"x\":0.05},\"mapbox\":{\"style\":\"light\"}}},\"geo\":{\"domain\":{\"x\":[0.0,1.0],\"y\":[0.0,1.0]},\"center\":{},\"scope\":\"usa\"},\"coloraxis\":{\"colorbar\":{\"title\":{\"text\":\"Number of Customers\"}},\"colorscale\":[[0.0,\"rgb(103,0,31)\"],[0.1,\"rgb(178,24,43)\"],[0.2,\"rgb(214,96,77)\"],[0.3,\"rgb(244,165,130)\"],[0.4,\"rgb(253,219,199)\"],[0.5,\"rgb(247,247,247)\"],[0.6,\"rgb(209,229,240)\"],[0.7,\"rgb(146,197,222)\"],[0.8,\"rgb(67,147,195)\"],[0.9,\"rgb(33,102,172)\"],[1.0,\"rgb(5,48,97)\"]]},\"legend\":{\"tracegroupgap\":0},\"title\":{\"text\":\"Distribution of Customers Across US States\"}},                        {\"responsive\": true}                    ).then(function(){\n",
       "                            \n",
       "var gd = document.getElementById('1c6cd3aa-85a7-46d2-b455-dc3931b47345');\n",
       "var x = new MutationObserver(function (mutations, observer) {{\n",
       "        var display = window.getComputedStyle(gd).display;\n",
       "        if (!display || display === 'none') {{\n",
       "            console.log([gd, 'removed!']);\n",
       "            Plotly.purge(gd);\n",
       "            observer.disconnect();\n",
       "        }}\n",
       "}});\n",
       "\n",
       "// Listen for the removal of the full notebook cells\n",
       "var notebookContainer = gd.closest('#notebook-container');\n",
       "if (notebookContainer) {{\n",
       "    x.observe(notebookContainer, {childList: true});\n",
       "}}\n",
       "\n",
       "// Listen for the clearing of the current output cell\n",
       "var outputEl = gd.closest('.output');\n",
       "if (outputEl) {{\n",
       "    x.observe(outputEl, {childList: true});\n",
       "}}\n",
       "\n",
       "                        })                };                });            </script>        </div>"
      ]
     },
     "metadata": {},
     "output_type": "display_data"
    }
   ],
   "source": [
    "import plotly.express as px\n",
    "\n",
    "# Membuat pemetaan dari State Code ke Location\n",
    "state_location_mapping = df.groupby('State Code')['Location'].first().reset_index()\n",
    "\n",
    "# Visualisasi 1: Segmentasi Pelanggan Geografis\n",
    "customer_distribution = df['State Code'].value_counts().reset_index()\n",
    "customer_distribution.columns = ['State Code', 'Number of Customers']\n",
    "\n",
    "# Menggabungkan dengan pemetaan untuk mendapatkan Location\n",
    "customer_distribution = pd.merge(customer_distribution, state_location_mapping, on='State Code')\n",
    "\n",
    "fig1 = px.choropleth(\n",
    "    customer_distribution,\n",
    "    locations='State Code',\n",
    "    locationmode=\"USA-states\",\n",
    "    color='Number of Customers',\n",
    "    hover_data=['Location', 'Number of Customers'],  # Menambahkan 'Location' ke dalam hover_data\n",
    "    scope=\"usa\",\n",
    "    title='Distribution of Customers Across US States',\n",
    "    color_continuous_scale='RdBu'\n",
    ")\n",
    "fig1.show()"
   ]
  }
 ],
 "metadata": {
  "kernelspec": {
   "display_name": "Python 3 (ipykernel)",
   "language": "python",
   "name": "python3"
  },
  "language_info": {
   "codemirror_mode": {
    "name": "ipython",
    "version": 3
   },
   "file_extension": ".py",
   "mimetype": "text/x-python",
   "name": "python",
   "nbconvert_exporter": "python",
   "pygments_lexer": "ipython3",
   "version": "3.10.11"
  }
 },
 "nbformat": 4,
 "nbformat_minor": 5
}
